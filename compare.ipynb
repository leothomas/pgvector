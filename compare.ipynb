{
 "cells": [
  {
   "cell_type": "code",
   "execution_count": 1,
   "id": "28965138-18e0-4973-87ab-b53966bf961a",
   "metadata": {},
   "outputs": [
    {
     "name": "stderr",
     "output_type": "stream",
     "text": [
      "/Users/leo/development-seed/similarity-search/pgvector/.venv/lib/python3.10/site-packages/tqdm/auto.py:21: TqdmWarning: IProgress not found. Please update jupyter and ipywidgets. See https://ipywidgets.readthedocs.io/en/stable/user_install.html\n",
      "  from .autonotebook import tqdm as notebook_tqdm\n"
     ]
    }
   ],
   "source": [
    "import base64\n",
    "import json\n",
    "from io import BytesIO\n",
    "import time\n",
    "import numpy as np\n",
    "from PIL import Image, UnidentifiedImageError\n",
    "import faiss\n",
    "import boto3\n",
    "import psycopg\n",
    "import requests\n",
    "import torch\n",
    "import vecs\n",
    "from datetime import datetime\n",
    "import database_admin"
   ]
  },
  {
   "cell_type": "code",
   "execution_count": 2,
   "id": "c58962ac-0f16-4c05-b148-e1f6c1245723",
   "metadata": {},
   "outputs": [
    {
     "name": "stderr",
     "output_type": "stream",
     "text": [
      "INFO:botocore.credentials:Found credentials in shared credentials file: ~/.aws/credentials\n"
     ]
    }
   ],
   "source": [
    "STACK_NAME = \"pg-vectors-similarity-search-test\"\n",
    "\n",
    "cloudformation = boto3.client(\"cloudformation\", region_name=\"us-east-2\")\n",
    "stack_outputs = cloudformation.describe_stacks(StackName=STACK_NAME)[\"Stacks\"][0][\"Outputs\"]\n",
    "\n",
    "[secrets_arn] = [o[\"OutputValue\"] for o in stack_outputs if o[\"OutputKey\"]== \"databasesecretsarn\"]\n",
    "\n",
    "secretsmanager = boto3.client(\"secretsmanager\", region_name=\"us-east-2\")\n",
    "database_secrets = json.loads(secretsmanager.get_secret_value(SecretId=secrets_arn)['SecretString'])\n",
    "database_secrets = {**{k:v for k,v in database_secrets.items() if k in [\"host\", \"password\", \"port\", \"dbname\"]}, \"user\":database_secrets[\"username\"]}\n",
    "\n",
    "[task_definition] = [o[\"OutputValue\"] for o in stack_outputs if o[\"OutputKey\"]== \"taskdefinitionarn\"]\n",
    "\n",
    "ecs = boto3.client(\"ecs\", region_name=\"us-east-2\")"
   ]
  },
  {
   "cell_type": "code",
   "execution_count": 20,
   "id": "29688e6d-c7e9-41eb-9a07-b11eb73d33c6",
   "metadata": {},
   "outputs": [],
   "source": [
    "def b64_image_to_tensor(image: str) -> torch.Tensor:\n",
    "    \"\"\"convert input b64image to torch tensor\"\"\"\n",
    "    # handle image\n",
    "    img_bytes = base64.b64decode(image)\n",
    "    tmp = BytesIO()\n",
    "    tmp.write(img_bytes)\n",
    "    try:\n",
    "        img = Image.open(tmp)\n",
    "    except UnidentifiedImageError:\n",
    "        raise HTTPException(status_code=400, detail=\"Cannot recognize image format.\")\n",
    "    np_img = np.expand_dims(np.moveaxis(np.array(img), -1, 0), axis=0)\n",
    "    if len(np_img.shape) != 4:\n",
    "        raise HTTPException(\n",
    "            status_code=400,\n",
    "            detail=f\"Image with shape {np.moveaxis(np_img, 1, -1).shape[1:]} is not processable. Use image with 3 channels.\",\n",
    "        )\n",
    "    return torch.tensor(np_img).float()\n",
    "\n",
    "def get_model():\n",
    "    \"\"\"start torch model\"\"\"\n",
    "    # load encoder\n",
    "    model = torch.jit.load(\"./encoder.pt\", map_location=torch.device(\"cpu\"))\n",
    "    return model\n",
    "\n",
    "def prep_query_vector(image_bytes): \n",
    "\n",
    "    tensor = b64_image_to_tensor(encoded_image_bytes)\n",
    "    embedding = model(tensor)[0].detach().numpy()\n",
    "    \n",
    "    query_vector = embedding[0]\n",
    "    return query_vector\n",
    "\n",
    "model = get_model()\n",
    "\n",
    "gibs_image_url = \"https://gibs.earthdata.nasa.gov/wmts/epsg3857/best/MODIS_Terra_CorrectedReflectance_TrueColor/default/2023-08-08/GoogleMapsCompatible_Level9/8/111/15.jpg\"\n",
    "encoded_image_bytes = base64.b64encode(requests.get(gibs_image_url).content)\n"
   ]
  },
  {
   "cell_type": "code",
   "execution_count": 9,
   "id": "1989c0e9-d04c-4b4e-b513-5e655eb683c3",
   "metadata": {},
   "outputs": [
    {
     "name": "stderr",
     "output_type": "stream",
     "text": [
      "INFO:database_admin:Created metadata table and collection with name similaritysearch and vector dimensions 128\n"
     ]
    }
   ],
   "source": [
    "task = ecs.run_task(\n",
    "    taskDefinition=\"arn:aws:ecs:us-east-2:350996086543:task-definition/pgvectorssimilaritysearchtestpgvectorsingesttaskBC438D7F:60\",\n",
    "    cluster=\"arn:aws:ecs:us-east-2:350996086543:cluster/pg-vectors-similarity-search-test-ecscluster7830E7B5-eJ0S8m1U6RKk\",\n",
    "    count=1,\n",
    "    launchType=\"FARGATE\",\n",
    "    networkConfiguration={\n",
    "        'awsvpcConfiguration': {\n",
    "            'subnets': [\n",
    "                'subnet-0b7ed75d0fa9de2e4',\n",
    "                'subnet-0d19d2d8e844c6107' \n",
    "            ],\n",
    "            'securityGroups': [\n",
    "                'sg-03aa718ad98e4588e',\n",
    "            ],\n",
    "            'assignPublicIp': 'DISABLED'\n",
    "        }\n",
    "    }\n",
    ")\n",
    "pgvector_client =  database_admin.PGVectorClient(\n",
    "    collection_name=\"similaritysearch\",\n",
    "    database_connection_string=f\"postgresql://{database_secrets['user']}:{database_secrets['password']}@{database_secrets['host']}:{database_secrets['port']}/{database_secrets['dbname']}\", \n",
    "    vector_dimensions=128, \n",
    "    index_type=\"IVF\"\n",
    ")\n"
   ]
  },
  {
   "cell_type": "code",
   "execution_count": 4,
   "id": "123d6c68-e120-46be-aa8b-1deca3994d71",
   "metadata": {},
   "outputs": [
    {
     "data": {
      "text/plain": [
       "{'tasks': [{'attachments': [{'id': '0a5f613a-b8d5-4340-9c89-7cf02a41cb4e',\n",
       "     'type': 'ElasticNetworkInterface',\n",
       "     'status': 'PRECREATED',\n",
       "     'details': [{'name': 'subnetId', 'value': 'subnet-0b7ed75d0fa9de2e4'}]}],\n",
       "   'attributes': [{'name': 'ecs.cpu-architecture', 'value': 'x86_64'}],\n",
       "   'availabilityZone': 'us-east-2b',\n",
       "   'clusterArn': 'arn:aws:ecs:us-east-2:350996086543:cluster/pg-vectors-similarity-search-test-ecscluster7830E7B5-eJ0S8m1U6RKk',\n",
       "   'containers': [{'containerArn': 'arn:aws:ecs:us-east-2:350996086543:container/pg-vectors-similarity-search-test-ecscluster7830E7B5-eJ0S8m1U6RKk/d55e13ba19a94915bae6102f84bd7c57/ef1debc5-6ed8-4c9c-b6b4-752a1f2c69bd',\n",
       "     'taskArn': 'arn:aws:ecs:us-east-2:350996086543:task/pg-vectors-similarity-search-test-ecscluster7830E7B5-eJ0S8m1U6RKk/d55e13ba19a94915bae6102f84bd7c57',\n",
       "     'name': 'pg-vectors-ingest-container',\n",
       "     'image': '350996086543.dkr.ecr.us-east-2.amazonaws.com/cdk-hnb659fds-container-assets-350996086543-us-east-2:7a868dc9345ad07f038a09de299eedaf7e314628db79c1a07863f12eace8e08c',\n",
       "     'lastStatus': 'PENDING',\n",
       "     'networkInterfaces': [],\n",
       "     'cpu': '0'}],\n",
       "   'cpu': '16384',\n",
       "   'createdAt': datetime.datetime(2024, 1, 23, 7, 45, 16, 985000, tzinfo=tzlocal()),\n",
       "   'desiredStatus': 'RUNNING',\n",
       "   'enableExecuteCommand': False,\n",
       "   'group': 'family:pgvectorssimilaritysearchtestpgvectorsingesttaskBC438D7F',\n",
       "   'lastStatus': 'PROVISIONING',\n",
       "   'launchType': 'FARGATE',\n",
       "   'memory': '122880',\n",
       "   'overrides': {'containerOverrides': [{'name': 'pg-vectors-ingest-container'}],\n",
       "    'inferenceAcceleratorOverrides': []},\n",
       "   'platformVersion': '1.4.0',\n",
       "   'platformFamily': 'Linux',\n",
       "   'tags': [],\n",
       "   'taskArn': 'arn:aws:ecs:us-east-2:350996086543:task/pg-vectors-similarity-search-test-ecscluster7830E7B5-eJ0S8m1U6RKk/d55e13ba19a94915bae6102f84bd7c57',\n",
       "   'taskDefinitionArn': 'arn:aws:ecs:us-east-2:350996086543:task-definition/pgvectorssimilaritysearchtestpgvectorsingesttaskBC438D7F:56',\n",
       "   'version': 1,\n",
       "   'ephemeralStorage': {'sizeInGiB': 20}}],\n",
       " 'failures': [],\n",
       " 'ResponseMetadata': {'RequestId': 'c029d970-c1bd-4695-82d5-7eb5d9516a33',\n",
       "  'HTTPStatusCode': 200,\n",
       "  'HTTPHeaders': {'x-amzn-requestid': 'c029d970-c1bd-4695-82d5-7eb5d9516a33',\n",
       "   'content-type': 'application/x-amz-json-1.1',\n",
       "   'content-length': '1809',\n",
       "   'date': 'Tue, 23 Jan 2024 12:45:16 GMT'},\n",
       "  'RetryAttempts': 0}}"
      ]
     },
     "execution_count": 4,
     "metadata": {},
     "output_type": "execute_result"
    }
   ],
   "source": [
    "task"
   ]
  },
  {
   "cell_type": "code",
   "execution_count": 27,
   "id": "c647908f-a057-4992-b6ea-30cdb0b34c67",
   "metadata": {},
   "outputs": [
    {
     "ename": "NoResultFound",
     "evalue": "No row was found when one was required",
     "output_type": "error",
     "traceback": [
      "\u001b[0;31m---------------------------------------------------------------------------\u001b[0m",
      "\u001b[0;31mNoResultFound\u001b[0m                             Traceback (most recent call last)",
      "Cell \u001b[0;32mIn[27], line 3\u001b[0m\n\u001b[1;32m      1\u001b[0m query_vector \u001b[38;5;241m=\u001b[39m prep_query_vector(encoded_image_bytes)\n\u001b[0;32m----> 3\u001b[0m res \u001b[38;5;241m=\u001b[39m \u001b[43mpgvector_client\u001b[49m\u001b[38;5;241;43m.\u001b[39;49m\u001b[43mquery\u001b[49m\u001b[43m(\u001b[49m\n\u001b[1;32m      4\u001b[0m \u001b[43m    \u001b[49m\u001b[43mvector\u001b[49m\u001b[38;5;241;43m=\u001b[39;49m\u001b[43mquery_vector\u001b[49m\u001b[43m,\u001b[49m\u001b[43m \u001b[49m\n\u001b[1;32m      5\u001b[0m \u001b[43m    \u001b[49m\u001b[43mneighbors\u001b[49m\u001b[38;5;241;43m=\u001b[39;49m\u001b[38;5;241;43m100\u001b[39;49m\u001b[43m,\u001b[49m\n\u001b[1;32m      6\u001b[0m \u001b[43m    \u001b[49m\u001b[43mdistance\u001b[49m\u001b[38;5;241;43m=\u001b[39;49m\u001b[38;5;241;43m10\u001b[39;49m\u001b[43m,\u001b[49m\n\u001b[1;32m      7\u001b[0m \u001b[43m)\u001b[49m\n",
      "File \u001b[0;32m~/development-seed/similarity-search/pgvector/database_admin.py:348\u001b[0m, in \u001b[0;36mPGVectorClient.query\u001b[0;34m(self, vector, neighbors, distance, filters, nprobe)\u001b[0m\n\u001b[1;32m    343\u001b[0m     \u001b[38;5;28;01mraise\u001b[39;00m \u001b[38;5;167;01mException\u001b[39;00m(\n\u001b[1;32m    344\u001b[0m         \u001b[38;5;124m\"\u001b[39m\u001b[38;5;124mCannot search using an input vector with with smaller\u001b[39m\u001b[38;5;124m\"\u001b[39m\n\u001b[1;32m    345\u001b[0m         \u001b[38;5;124m\"\u001b[39m\u001b[38;5;124mdimensionality than collection \u001b[39m\u001b[38;5;124m\"\u001b[39m,\n\u001b[1;32m    346\u001b[0m     )\n\u001b[1;32m    347\u001b[0m \u001b[38;5;28;01mif\u001b[39;00m \u001b[38;5;28mlen\u001b[39m(vector) \u001b[38;5;241m>\u001b[39m \u001b[38;5;28mself\u001b[39m\u001b[38;5;241m.\u001b[39mcollection\u001b[38;5;241m.\u001b[39mdimension:\n\u001b[0;32m--> 348\u001b[0m     vector \u001b[38;5;241m=\u001b[39m \u001b[38;5;28;43mself\u001b[39;49m\u001b[38;5;241;43m.\u001b[39;49m\u001b[43mapply_pca_dimensionality_reduction\u001b[49m\u001b[43m(\u001b[49m\u001b[43mvector\u001b[49m\u001b[43m)\u001b[49m\n\u001b[1;32m    350\u001b[0m \u001b[38;5;28;01mif\u001b[39;00m \u001b[38;5;28misinstance\u001b[39m(vector, np\u001b[38;5;241m.\u001b[39mndarray):\n\u001b[1;32m    351\u001b[0m     vector \u001b[38;5;241m=\u001b[39m vector\u001b[38;5;241m.\u001b[39mtolist()\n",
      "File \u001b[0;32m~/development-seed/similarity-search/pgvector/database_admin.py:183\u001b[0m, in \u001b[0;36mPGVectorClient.apply_pca_dimensionality_reduction\u001b[0;34m(self, vectors)\u001b[0m\n\u001b[1;32m    182\u001b[0m \u001b[38;5;28;01mdef\u001b[39;00m \u001b[38;5;21mapply_pca_dimensionality_reduction\u001b[39m(\u001b[38;5;28mself\u001b[39m, vectors: np\u001b[38;5;241m.\u001b[39mndarray):\n\u001b[0;32m--> 183\u001b[0m     A, b \u001b[38;5;241m=\u001b[39m \u001b[38;5;28;43mself\u001b[39;49m\u001b[38;5;241;43m.\u001b[39;49m\u001b[43mfetch_pca_matrix_components\u001b[49m\u001b[43m(\u001b[49m\u001b[43m)\u001b[49m\n\u001b[1;32m    185\u001b[0m     \u001b[38;5;66;03m# wrap single vector in a 2d array, apply transformation\u001b[39;00m\n\u001b[1;32m    186\u001b[0m     \u001b[38;5;66;03m# and return single vector\u001b[39;00m\n\u001b[1;32m    187\u001b[0m     \u001b[38;5;28;01mif\u001b[39;00m vectors\u001b[38;5;241m.\u001b[39mndim \u001b[38;5;241m==\u001b[39m \u001b[38;5;241m1\u001b[39m:\n",
      "File \u001b[0;32m~/development-seed/similarity-search/pgvector/database_admin.py:167\u001b[0m, in \u001b[0;36mPGVectorClient.fetch_pca_matrix_components\u001b[0;34m(self)\u001b[0m\n\u001b[1;32m    161\u001b[0m \u001b[38;5;28;01mwith\u001b[39;00m session\u001b[38;5;241m.\u001b[39mbegin():\n\u001b[1;32m    162\u001b[0m     statement \u001b[38;5;241m=\u001b[39m sqlalchemy\u001b[38;5;241m.\u001b[39mselect(\u001b[38;5;28mself\u001b[39m\u001b[38;5;241m.\u001b[39mmetadata_table\u001b[38;5;241m.\u001b[39mcolumns\u001b[38;5;241m.\u001b[39mvalue)\u001b[38;5;241m.\u001b[39mwhere(\n\u001b[1;32m    163\u001b[0m         \u001b[38;5;28mself\u001b[39m\u001b[38;5;241m.\u001b[39mmetadata_table\u001b[38;5;241m.\u001b[39mcolumns\u001b[38;5;241m.\u001b[39mkey \u001b[38;5;241m==\u001b[39m \u001b[38;5;124m\"\u001b[39m\u001b[38;5;124mpca.A\u001b[39m\u001b[38;5;124m\"\u001b[39m,\n\u001b[1;32m    164\u001b[0m     )\n\u001b[1;32m    165\u001b[0m     A \u001b[38;5;241m=\u001b[39m np\u001b[38;5;241m.\u001b[39marray(\n\u001b[1;32m    166\u001b[0m         json\u001b[38;5;241m.\u001b[39mloads(\n\u001b[0;32m--> 167\u001b[0m             \u001b[43msession\u001b[49m\u001b[38;5;241;43m.\u001b[39;49m\u001b[43mexecute\u001b[49m\u001b[43m(\u001b[49m\u001b[43mstatement\u001b[49m\u001b[43m)\u001b[49m\u001b[38;5;241;43m.\u001b[39;49m\u001b[43mone\u001b[49m\u001b[43m(\u001b[49m\u001b[43m)\u001b[49m[\u001b[38;5;241m0\u001b[39m],\n\u001b[1;32m    168\u001b[0m         )[\u001b[38;5;124m\"\u001b[39m\u001b[38;5;124mdata\u001b[39m\u001b[38;5;124m\"\u001b[39m],\n\u001b[1;32m    169\u001b[0m     )\n\u001b[1;32m    171\u001b[0m     statement \u001b[38;5;241m=\u001b[39m sqlalchemy\u001b[38;5;241m.\u001b[39mselect(\u001b[38;5;28mself\u001b[39m\u001b[38;5;241m.\u001b[39mmetadata_table\u001b[38;5;241m.\u001b[39mcolumns\u001b[38;5;241m.\u001b[39mvalue)\u001b[38;5;241m.\u001b[39mwhere(\n\u001b[1;32m    172\u001b[0m         \u001b[38;5;28mself\u001b[39m\u001b[38;5;241m.\u001b[39mmetadata_table\u001b[38;5;241m.\u001b[39mcolumns\u001b[38;5;241m.\u001b[39mkey \u001b[38;5;241m==\u001b[39m \u001b[38;5;124m\"\u001b[39m\u001b[38;5;124mpca.b\u001b[39m\u001b[38;5;124m\"\u001b[39m,\n\u001b[1;32m    173\u001b[0m     )\n\u001b[1;32m    174\u001b[0m     b \u001b[38;5;241m=\u001b[39m np\u001b[38;5;241m.\u001b[39marray(\n\u001b[1;32m    175\u001b[0m         json\u001b[38;5;241m.\u001b[39mloads(\n\u001b[1;32m    176\u001b[0m             session\u001b[38;5;241m.\u001b[39mexecute(statement)\u001b[38;5;241m.\u001b[39mone()[\u001b[38;5;241m0\u001b[39m],\n\u001b[1;32m    177\u001b[0m         )[\u001b[38;5;124m\"\u001b[39m\u001b[38;5;124mdata\u001b[39m\u001b[38;5;124m\"\u001b[39m],\n\u001b[1;32m    178\u001b[0m     )\n",
      "File \u001b[0;32m~/development-seed/similarity-search/pgvector/.venv/lib/python3.10/site-packages/sqlalchemy/engine/result.py:1532\u001b[0m, in \u001b[0;36mResult.one\u001b[0;34m(self)\u001b[0m\n\u001b[1;32m   1503\u001b[0m \u001b[38;5;28;01mdef\u001b[39;00m \u001b[38;5;21mone\u001b[39m(\u001b[38;5;28mself\u001b[39m) \u001b[38;5;241m-\u001b[39m\u001b[38;5;241m>\u001b[39m Row[_TP]:\n\u001b[1;32m   1504\u001b[0m \u001b[38;5;250m    \u001b[39m\u001b[38;5;124;03m\"\"\"Return exactly one row or raise an exception.\u001b[39;00m\n\u001b[1;32m   1505\u001b[0m \n\u001b[1;32m   1506\u001b[0m \u001b[38;5;124;03m    Raises :class:`.NoResultFound` if the result returns no\u001b[39;00m\n\u001b[0;32m   (...)\u001b[0m\n\u001b[1;32m   1530\u001b[0m \n\u001b[1;32m   1531\u001b[0m \u001b[38;5;124;03m    \"\"\"\u001b[39;00m\n\u001b[0;32m-> 1532\u001b[0m     \u001b[38;5;28;01mreturn\u001b[39;00m \u001b[38;5;28;43mself\u001b[39;49m\u001b[38;5;241;43m.\u001b[39;49m\u001b[43m_only_one_row\u001b[49m\u001b[43m(\u001b[49m\n\u001b[1;32m   1533\u001b[0m \u001b[43m        \u001b[49m\u001b[43mraise_for_second_row\u001b[49m\u001b[38;5;241;43m=\u001b[39;49m\u001b[38;5;28;43;01mTrue\u001b[39;49;00m\u001b[43m,\u001b[49m\u001b[43m \u001b[49m\u001b[43mraise_for_none\u001b[49m\u001b[38;5;241;43m=\u001b[39;49m\u001b[38;5;28;43;01mTrue\u001b[39;49;00m\u001b[43m,\u001b[49m\u001b[43m \u001b[49m\u001b[43mscalar\u001b[49m\u001b[38;5;241;43m=\u001b[39;49m\u001b[38;5;28;43;01mFalse\u001b[39;49;00m\n\u001b[1;32m   1534\u001b[0m \u001b[43m    \u001b[49m\u001b[43m)\u001b[49m\n",
      "File \u001b[0;32m~/development-seed/similarity-search/pgvector/.venv/lib/python3.10/site-packages/sqlalchemy/engine/result.py:757\u001b[0m, in \u001b[0;36mResultInternal._only_one_row\u001b[0;34m(self, raise_for_second_row, raise_for_none, scalar)\u001b[0m\n\u001b[1;32m    755\u001b[0m \u001b[38;5;28;01mif\u001b[39;00m row \u001b[38;5;129;01mis\u001b[39;00m \u001b[38;5;28;01mNone\u001b[39;00m:\n\u001b[1;32m    756\u001b[0m     \u001b[38;5;28;01mif\u001b[39;00m raise_for_none:\n\u001b[0;32m--> 757\u001b[0m         \u001b[38;5;28;01mraise\u001b[39;00m exc\u001b[38;5;241m.\u001b[39mNoResultFound(\n\u001b[1;32m    758\u001b[0m             \u001b[38;5;124m\"\u001b[39m\u001b[38;5;124mNo row was found when one was required\u001b[39m\u001b[38;5;124m\"\u001b[39m\n\u001b[1;32m    759\u001b[0m         )\n\u001b[1;32m    760\u001b[0m     \u001b[38;5;28;01melse\u001b[39;00m:\n\u001b[1;32m    761\u001b[0m         \u001b[38;5;28;01mreturn\u001b[39;00m \u001b[38;5;28;01mNone\u001b[39;00m\n",
      "\u001b[0;31mNoResultFound\u001b[0m: No row was found when one was required"
     ]
    }
   ],
   "source": [
    "query_vector = prep_query_vector(encoded_image_bytes)\n",
    "\n",
    "\n",
    "distances = [1,2,4,8]\n",
    "neighors = [10, 25, 100, 1000]\n",
    "filters = {\"and\": {\"image_dt\": {\"$lt\": \"2020-\" }}, {\"image_dt\": {\"$gt\":}}}\n",
    "        \n",
    "for neighbors in 10, 25, 100, 1000: \n",
    "        \n",
    "res = pgvector_client.query(\n",
    "    vector=query_vector, \n",
    "    neighbors=100,\n",
    "    distance=10,\n",
    ")"
   ]
  },
  {
   "cell_type": "code",
   "execution_count": 14,
   "id": "b95f0ca8-eb8c-4534-9665-5ea08d76135b",
   "metadata": {},
   "outputs": [
    {
     "data": {
      "text/plain": [
       "[('2079040', 2.087820976093045, {'quadkey': '03132123', 'image_dt': '2000-07-10'}),\n",
       " ('2156041', 2.3478170901896265, {'quadkey': '12221102', 'image_dt': '2000-07-25'}),\n",
       " ('744376', 2.551118138849677, {'quadkey': '31011130', 'image_dt': '2000-05-05'}),\n",
       " ('2018752', 2.7679285860275202, {'quadkey': '03302233', 'image_dt': '2000-07-26'}),\n",
       " ('727639', 2.818507946133093, {'quadkey': '13233001', 'image_dt': '2000-05-18'}),\n",
       " ('1201294', 2.9839941209657828, {'quadkey': '03323030', 'image_dt': '2000-06-07'}),\n",
       " ('312127', 3.0822567377655448, {'quadkey': '03231323', 'image_dt': '2000-05-29'}),\n",
       " ('1744142', 3.171083964059287, {'quadkey': '02030021', 'image_dt': '2000-07-11'}),\n",
       " ('1714104', 3.173217690466541, {'quadkey': '02201200', 'image_dt': '2000-07-27'}),\n",
       " ('2497736', 3.1863927115855737, {'quadkey': '13312232', 'image_dt': '2000-07-26'}),\n",
       " ('2012007', 3.2087059517234855, {'quadkey': '03120201', 'image_dt': '2000-07-14'}),\n",
       " ('2015388', 3.2511171431802306, {'quadkey': '03122010', 'image_dt': '2000-07-23'}),\n",
       " ('1130019', 3.270318543976646, {'quadkey': '03030302', 'image_dt': '2000-06-22'}),\n",
       " ('2021991', 3.2787725414046744, {'quadkey': '03302100', 'image_dt': '2000-07-14'}),\n",
       " ('1198024', 3.3100923714176425, {'quadkey': '03103021', 'image_dt': '2000-06-17'}),\n",
       " ('1740794', 3.369184784865702, {'quadkey': '02212000', 'image_dt': '2000-07-29'}),\n",
       " ('2006081', 3.379005201101763, {'quadkey': '03233113', 'image_dt': '2000-07-17'}),\n",
       " ('1818395', 3.3843842790260226, {'quadkey': '02122111', 'image_dt': '2000-07-02'}),\n",
       " ('2042209', 3.3860813739716096, {'quadkey': '03123232', 'image_dt': '2000-07-23'}),\n",
       " ('1760957', 3.398694561473679, {'quadkey': '02212132', 'image_dt': '2000-07-31'}),\n",
       " ('747724', 3.539534911609765, {'quadkey': '13213131', 'image_dt': '2000-05-29'}),\n",
       " ('1532307', 3.5823618325477464, {'quadkey': '31012222', 'image_dt': '2000-06-10'}),\n",
       " ('1942281', 3.596159668210761, {'quadkey': '03203122', 'image_dt': '2000-07-03'}),\n",
       " ('1098146', 3.6088053463351173, {'quadkey': '21021012', 'image_dt': '2000-06-29'}),\n",
       " ('2079016', 3.609204631266091, {'quadkey': '03132323', 'image_dt': '2000-07-22'}),\n",
       " ('1717452', 3.6306082329682097, {'quadkey': '02023001', 'image_dt': '2000-07-19'}),\n",
       " ('1938949', 3.640411811896489, {'quadkey': '21001031', 'image_dt': '2000-07-26'}),\n",
       " ('1227146', 3.6494004844809345, {'quadkey': '03332210', 'image_dt': '2000-06-19'}),\n",
       " ('1230416', 3.6595295440066447, {'quadkey': '03312031', 'image_dt': '2000-06-09'}),\n",
       " ('2079047', 3.66670936202114, {'quadkey': '03132123', 'image_dt': '2000-07-17'}),\n",
       " ('221995', 3.674082503986626, {'quadkey': '03200210', 'image_dt': '2000-05-02'}),\n",
       " ('2524433', 3.6744767700786767, {'quadkey': '13311210', 'image_dt': '2000-07-20'}),\n",
       " ('2420961', 3.685532015823667, {'quadkey': '13231031', 'image_dt': '2000-07-22'}),\n",
       " ('382461', 3.6940118887997557, {'quadkey': '03132212', 'image_dt': '2000-05-01'}),\n",
       " ('926456', 3.6965236636407166, {'quadkey': '02232323', 'image_dt': '2000-06-19'}),\n",
       " ('1744237', 3.704836769545713, {'quadkey': '02210003', 'image_dt': '2000-07-21'}),\n",
       " ('2079093', 3.7170182544445565, {'quadkey': '03330101', 'image_dt': '2000-07-12'}),\n",
       " ('2008728', 3.719324582684919, {'quadkey': '03302000', 'image_dt': '2000-07-23'}),\n",
       " ('366007', 3.7672728006676386, {'quadkey': '21101303', 'image_dt': '2000-05-27'}),\n",
       " ('858527', 3.778589278239205, {'quadkey': '02222000', 'image_dt': '2000-06-20'}),\n",
       " ('1279021', 3.779893394194134, {'quadkey': '12200010', 'image_dt': '2000-06-14'}),\n",
       " ('462766', 3.7831848526162046, {'quadkey': '12021012', 'image_dt': '2000-05-26'}),\n",
       " ('2022763', 3.7836202200744102, {'quadkey': '03322120', 'image_dt': '2000-07-28'}),\n",
       " ('2005349', 3.7897778678060643, {'quadkey': '03031333', 'image_dt': '2000-07-19'}),\n",
       " ('2079062', 3.791030350759926, {'quadkey': '03132301', 'image_dt': '2000-07-01'}),\n",
       " ('1721388', 3.7999984583460296, {'quadkey': '02023230', 'image_dt': '2000-07-21'}),\n",
       " ('1474086', 3.822232146394796, {'quadkey': '12133332', 'image_dt': '2000-06-29'}),\n",
       " ('1942321', 3.8263113693545883, {'quadkey': '03201122', 'image_dt': '2000-07-11'}),\n",
       " ('1159162', 3.8387136891115485, {'quadkey': '03233301', 'image_dt': '2000-06-15'}),\n",
       " ('1720793', 3.839271553870218, {'quadkey': '02023032', 'image_dt': '2000-07-19'}),\n",
       " ('1201377', 3.844337157212477, {'quadkey': '03303030', 'image_dt': '2000-06-30'}),\n",
       " ('312096', 3.8447820657299965, {'quadkey': '03233301', 'image_dt': '2000-05-03'}),\n",
       " ('2012748', 3.851931219406633, {'quadkey': '21100221', 'image_dt': '2000-07-25'}),\n",
       " ('2521085', 3.852771828233386, {'quadkey': '13311223', 'image_dt': '2000-07-27'}),\n",
       " ('1133199', 3.854008095421311, {'quadkey': '03232123', 'image_dt': '2000-06-22'}),\n",
       " ('2012069', 3.8839409608164046, {'quadkey': '03120201', 'image_dt': '2000-07-16'}),\n",
       " ('2045464', 3.8893836276772293, {'quadkey': '03121011', 'image_dt': '2000-07-15'}),\n",
       " ('751010', 3.89467994582304, {'quadkey': '31100222', 'image_dt': '2000-05-28'}),\n",
       " ('2005216', 3.899613991539847, {'quadkey': '03031313', 'image_dt': '2000-07-08'}),\n",
       " ('2078993', 3.9047751843935696, {'quadkey': '03330103', 'image_dt': '2000-07-21'}),\n",
       " ('85073', 3.9084774790481056, {'quadkey': '20011001', 'image_dt': '2000-05-20'}),\n",
       " ('1217500', 3.9160624196217753, {'quadkey': '03123133', 'image_dt': '2000-06-23'}),\n",
       " ('128009', 3.9213721580120717, {'quadkey': '02322132', 'image_dt': '2000-05-07'}),\n",
       " ('1710873', 3.9224990512346865, {'quadkey': '02202311', 'image_dt': '2000-07-16'}),\n",
       " ('2045433', 3.923717757403432, {'quadkey': '03301013', 'image_dt': '2000-07-17'}),\n",
       " ('1942312', 3.9238097160727117, {'quadkey': '03201122', 'image_dt': '2000-07-02'}),\n",
       " ('1991944', 3.944960020854316, {'quadkey': '03231211', 'image_dt': '2000-07-07'}),\n",
       " ('356052', 3.9479812651520034, {'quadkey': '03323032', 'image_dt': '2000-05-26'}),\n",
       " ('1818496', 3.953921581763562, {'quadkey': '02320111', 'image_dt': '2000-07-19'}),\n",
       " ('2015419', 3.9558437847760266, {'quadkey': '03300212', 'image_dt': '2000-07-31'}),\n",
       " ('838480', 3.961432222156792, {'quadkey': '13333012', 'image_dt': '2000-05-24'}),\n",
       " ('1740856', 3.964934435816174, {'quadkey': '02210022', 'image_dt': '2000-07-06'}),\n",
       " ('1991960', 3.973885916590067, {'quadkey': '03031231', 'image_dt': '2000-07-13'}),\n",
       " ('1714135', 3.9836437210625126, {'quadkey': '02203220', 'image_dt': '2000-07-28'}),\n",
       " ('1677753', 3.986046601822228, {'quadkey': '13133103', 'image_dt': '2000-06-16'}),\n",
       " ('2079009', 3.9860870807334163, {'quadkey': '03132323', 'image_dt': '2000-07-15'}),\n",
       " ('864963', 3.986155040490175, {'quadkey': '02222210', 'image_dt': '2000-06-16'}),\n",
       " ('2032092', 3.996122805108669, {'quadkey': '03120111', 'image_dt': '2000-07-15'}),\n",
       " ('372718', 3.999948972263807, {'quadkey': '03123133', 'image_dt': '2000-05-24'}),\n",
       " ('399167', 4.000427590056565, {'quadkey': '03332133', 'image_dt': '2000-05-17'}),\n",
       " ('1201264', 4.012898865002294, {'quadkey': '03323012', 'image_dt': '2000-06-07'}),\n",
       " ('262471', 4.0189456705362, {'quadkey': '03223112', 'image_dt': '2000-05-31'}),\n",
       " ('744445', 4.024446570056686, {'quadkey': '13231330', 'image_dt': '2000-05-06'}),\n",
       " ('399284', 4.044026742583298, {'quadkey': '03312131', 'image_dt': '2000-05-21'}),\n",
       " ('1754853', 4.048169656984627, {'quadkey': '20012102', 'image_dt': '2000-07-13'}),\n",
       " ('61678', 4.062895977270574, {'quadkey': '02230230', 'image_dt': '2000-05-11'}),\n",
       " ('1055869', 4.064008374275712, {'quadkey': '02311301', 'image_dt': '2000-06-22'}),\n",
       " ('1198665', 4.073257641422046, {'quadkey': '03303023', 'image_dt': '2000-06-08'}),\n",
       " ('1938971', 4.081669980114736, {'quadkey': '03223031', 'image_dt': '2000-07-16'}),\n",
       " ('1717538', 4.084035968825284, {'quadkey': '20001203', 'image_dt': '2000-07-30'}),\n",
       " ('691160', 4.100684971102652, {'quadkey': '13223130', 'image_dt': '2000-05-05'}),\n",
       " ('85104', 4.1075172702953004, {'quadkey': '20011023', 'image_dt': '2000-05-18'}),\n",
       " ('2018705', 4.111033125975495, {'quadkey': '03320233', 'image_dt': '2000-07-31'}),\n",
       " ('282104', 4.125265500803729, {'quadkey': '03212100', 'image_dt': '2000-05-23'}),\n",
       " ('77838', 4.125515005686123, {'quadkey': '02210333', 'image_dt': '2000-05-16'}),\n",
       " ('887709', 4.12751766589399, {'quadkey': '20001221', 'image_dt': '2000-06-02'}),\n",
       " ('2078962', 4.1338803641827075, {'quadkey': '03312121', 'image_dt': '2000-07-07'}),\n",
       " ('1757609', 4.13927001543481, {'quadkey': '02210301', 'image_dt': '2000-07-08'}),\n",
       " ('379113', 4.139650990090281, {'quadkey': '03310001', 'image_dt': '2000-05-08'}),\n",
       " ('2001961', 4.142211941146015, {'quadkey': '03213110', 'image_dt': '2000-07-12'})]"
      ]
     },
     "execution_count": 14,
     "metadata": {},
     "output_type": "execute_result"
    }
   ],
   "source": [
    "res"
   ]
  },
  {
   "cell_type": "code",
   "execution_count": 11,
   "id": "389c54fb-2be1-498f-8efa-073f1864e49f",
   "metadata": {
    "scrolled": true
   },
   "outputs": [
    {
     "ename": "DataException",
     "evalue": "different vector dimensions 128 and 512",
     "output_type": "error",
     "traceback": [
      "\u001b[0;31m---------------------------------------------------------------------------\u001b[0m",
      "\u001b[0;31mDataException\u001b[0m                             Traceback (most recent call last)",
      "Cell \u001b[0;32mIn[11], line 12\u001b[0m\n\u001b[1;32m     10\u001b[0m \u001b[38;5;28;01mwith\u001b[39;00m psycopg\u001b[38;5;241m.\u001b[39mconnect(\u001b[38;5;241m*\u001b[39m\u001b[38;5;241m*\u001b[39mdatabase_secrets) \u001b[38;5;28;01mas\u001b[39;00m conn:\n\u001b[1;32m     11\u001b[0m     \u001b[38;5;28;01mwith\u001b[39;00m conn\u001b[38;5;241m.\u001b[39mcursor() \u001b[38;5;28;01mas\u001b[39;00m cursor:     \n\u001b[0;32m---> 12\u001b[0m         results \u001b[38;5;241m=\u001b[39m \u001b[38;5;28mlist\u001b[39m(\u001b[43mcursor\u001b[49m\u001b[38;5;241;43m.\u001b[39;49m\u001b[43mexecute\u001b[49m\u001b[43m(\u001b[49m\u001b[43mneighbors_query\u001b[49m\u001b[43m)\u001b[49m\u001b[38;5;241m.\u001b[39mfetchall())\n\u001b[1;32m     14\u001b[0m elapsed \u001b[38;5;241m=\u001b[39m \u001b[38;5;28mround\u001b[39m(time\u001b[38;5;241m.\u001b[39mtime() \u001b[38;5;241m-\u001b[39m start, \u001b[38;5;241m2\u001b[39m)\n\u001b[1;32m     15\u001b[0m \u001b[38;5;28mprint\u001b[39m(\u001b[38;5;124mf\u001b[39m\u001b[38;5;124m\"\u001b[39m\u001b[38;5;124mTotal results: \u001b[39m\u001b[38;5;132;01m{\u001b[39;00m\u001b[38;5;28mlen\u001b[39m(results)\u001b[38;5;132;01m}\u001b[39;00m\u001b[38;5;124m. Took \u001b[39m\u001b[38;5;132;01m{\u001b[39;00melapsed\u001b[38;5;132;01m}\u001b[39;00m\u001b[38;5;124m seconds\u001b[39m\u001b[38;5;124m\"\u001b[39m)\n",
      "File \u001b[0;32m~/development-seed/similarity-search/pgvector/.venv/lib/python3.10/site-packages/psycopg/cursor.py:732\u001b[0m, in \u001b[0;36mCursor.execute\u001b[0;34m(self, query, params, prepare, binary)\u001b[0m\n\u001b[1;32m    728\u001b[0m         \u001b[38;5;28mself\u001b[39m\u001b[38;5;241m.\u001b[39m_conn\u001b[38;5;241m.\u001b[39mwait(\n\u001b[1;32m    729\u001b[0m             \u001b[38;5;28mself\u001b[39m\u001b[38;5;241m.\u001b[39m_execute_gen(query, params, prepare\u001b[38;5;241m=\u001b[39mprepare, binary\u001b[38;5;241m=\u001b[39mbinary)\n\u001b[1;32m    730\u001b[0m         )\n\u001b[1;32m    731\u001b[0m \u001b[38;5;28;01mexcept\u001b[39;00m e\u001b[38;5;241m.\u001b[39m_NO_TRACEBACK \u001b[38;5;28;01mas\u001b[39;00m ex:\n\u001b[0;32m--> 732\u001b[0m     \u001b[38;5;28;01mraise\u001b[39;00m ex\u001b[38;5;241m.\u001b[39mwith_traceback(\u001b[38;5;28;01mNone\u001b[39;00m)\n\u001b[1;32m    733\u001b[0m \u001b[38;5;28;01mreturn\u001b[39;00m \u001b[38;5;28mself\u001b[39m\n",
      "\u001b[0;31mDataException\u001b[0m: different vector dimensions 128 and 512"
     ]
    }
   ],
   "source": [
    "start = time.time()\n",
    "\n",
    "query_vector = prep_query_vector(encoded_image_bytes)\n",
    "neighbors_query = f\"\"\"\n",
    "SELECT *, embedding <-> '{query_vector}' as distance \n",
    "FROM images \n",
    "ORDER BY embedding <-> '{query_vector}' \n",
    "LIMIT 5\"\"\"\n",
    "\n",
    "with psycopg.connect(**database_secrets) as conn:\n",
    "    with conn.cursor() as cursor:     \n",
    "        results = list(cursor.execute(neighbors_query).fetchall())\n",
    "\n",
    "elapsed = round(time.time() - start, 2)\n",
    "print(f\"Total results: {len(results)}. Took {elapsed} seconds\")"
   ]
  },
  {
   "cell_type": "code",
   "execution_count": 32,
   "id": "4a3bb656-0b81-42c7-9653-741610ba32ba",
   "metadata": {},
   "outputs": [
    {
     "name": "stdout",
     "output_type": "stream",
     "text": [
      "Total results: 938. Took 3.07 seconds\n"
     ]
    }
   ],
   "source": [
    "distance_query = f\"\"\"\n",
    "SELECT *, embedding <-> '{query_vector}' as distance \n",
    "FROM images \n",
    "WHERE embedding <-> '{query_vector}' < 5 \n",
    "ORDER BY embedding <-> '{query_vector}'\n",
    "\"\"\"\n",
    "\n",
    "start = time.time()\n",
    "query_vector = prep_query_vector(encoded_image_bytes)\n",
    "with psycopg.connect(**database_secrets) as conn:\n",
    "    with conn.cursor() as cursor:     \n",
    "        results = list(cursor.execute(distance_query).fetchall())\n",
    "\n",
    "elapsed = round(time.time() - start, 2)\n",
    "print(f\"Total results: {len(results)}. Took {elapsed} seconds\")"
   ]
  },
  {
   "cell_type": "code",
   "execution_count": 36,
   "id": "34599ae4-621b-4d8f-aa2b-5bf9b23546db",
   "metadata": {},
   "outputs": [
    {
     "name": "stdout",
     "output_type": "stream",
     "text": [
      "Total results: 305. Took 2.67 seconds\n"
     ]
    }
   ],
   "source": [
    "distance_query = f\"\"\"\n",
    "SELECT *, embedding <-> '{query_vector}' as distance \n",
    "FROM images \n",
    "WHERE embedding <-> '{query_vector}' < 5 \n",
    "AND datetime BETWEEN '2020-01-01'::timestamp AND '2020-06-01'::timestamp\n",
    "ORDER BY embedding <-> '{query_vector}'\n",
    "\"\"\"\n",
    "\n",
    "start = time.time()\n",
    "query_vector = prep_query_vector(encoded_image_bytes)\n",
    "with psycopg.connect(**database_secrets) as conn:\n",
    "    with conn.cursor() as cursor:     \n",
    "        results = list(cursor.execute(distance_query).fetchall())\n",
    "\n",
    "elapsed = round(time.time() - start, 2)\n",
    "print(f\"Total results: {len(results)}. Took {elapsed} seconds\")"
   ]
  },
  {
   "cell_type": "code",
   "execution_count": 14,
   "id": "6ab7e0c6-e9a3-4a40-894f-d2012535c4d5",
   "metadata": {},
   "outputs": [],
   "source": [
    "STACK_NAME = \"similarity-search-api-v2-dev\"\n",
    "cloudformation = boto3.client(\"cloudformation\")\n",
    "stack_outputs = cloudformation.describe_stacks(StackName=STACK_NAME)[\"Stacks\"][0][\"Outputs\"]\n",
    "[endpoint_url] = [o[\"OutputValue\"] for o in stack_outputs if o[\"OutputKey\"].startswith(\"apiEndpoint\")]\n"
   ]
  },
  {
   "cell_type": "code",
   "execution_count": 25,
   "id": "47ee472d-2863-4760-b2c2-156cc49d4ab9",
   "metadata": {},
   "outputs": [
    {
     "name": "stdout",
     "output_type": "stream",
     "text": [
      "Total results: 3. Took 1.43 seconds\n"
     ]
    }
   ],
   "source": [
    "start = time.time()\n",
    "resp = requests.post(f\"https://{endpoint_url}/search\", data=json.dumps({\"image\":encoded_image_bytes.decode(), \"neighbors\":3})).json()\n",
    "elapsed = round(time.time() - start, 2)\n",
    "print(f\"Total results: {resp['numberMatched']}. Took {elapsed} seconds\")"
   ]
  },
  {
   "cell_type": "code",
   "execution_count": 30,
   "id": "821d6af7-963f-4757-a1f9-1b20add0ecd8",
   "metadata": {},
   "outputs": [
    {
     "name": "stdout",
     "output_type": "stream",
     "text": [
      "Total results: {'type': 'FeatureCollection', 'features': [{'type': 'Feature', 'bbox': [-157.5, -21.943045533438177, -135.0, 0.0], 'id': 'Tile(x=1, y=8, z=4)', 'geometry': {'type': 'Polygon', 'coordinates': [[[-157.5, -21.943045533438177], [-157.5, 0.0], [-135.0, 0.0], [-135.0, -21.943045533438177], [-157.5, -21.943045533438177]]]}, 'properties': {'title': 'XYZ tile Tile(x=1, y=8, z=4)', 'bbox': [-157.5, -21.943045533438177, -135.0, 0.0], 'bin_start_time': '2001-01-01T00:00:00+00:00', 'count': 6}}, {'type': 'Feature', 'bbox': [-135.0, -21.943045533438177, -112.5, 0.0], 'id': 'Tile(x=2, y=8, z=4)', 'geometry': {'type': 'Polygon', 'coordinates': [[[-135.0, -21.943045533438177], [-135.0, 0.0], [-112.5, 0.0], [-112.5, -21.943045533438177], [-135.0, -21.943045533438177]]]}, 'properties': {'title': 'XYZ tile Tile(x=2, y=8, z=4)', 'bbox': [-135.0, -21.943045533438177, -112.5, 0.0], 'bin_start_time': '2001-01-01T00:00:00+00:00', 'count': 3}}, {'type': 'Feature', 'bbox': [45.0, 0.0, 67.5, 21.943045533438177], 'id': 'Tile(x=10, y=7, z=4)', 'geometry': {'type': 'Polygon', 'coordinates': [[[45.0, 0.0], [45.0, 21.943045533438177], [67.5, 21.943045533438177], [67.5, 0.0], [45.0, 0.0]]]}, 'properties': {'title': 'XYZ tile Tile(x=10, y=7, z=4)', 'bbox': [45.0, 0.0, 67.5, 21.943045533438177], 'bin_start_time': '2001-01-01T00:00:00+00:00', 'count': 2}}, {'type': 'Feature', 'bbox': [-157.5, 0.0, -135.0, 21.943045533438177], 'id': 'Tile(x=1, y=7, z=4)', 'geometry': {'type': 'Polygon', 'coordinates': [[[-157.5, 0.0], [-157.5, 21.943045533438177], [-135.0, 21.943045533438177], [-135.0, 0.0], [-157.5, 0.0]]]}, 'properties': {'title': 'XYZ tile Tile(x=1, y=7, z=4)', 'bbox': [-157.5, 0.0, -135.0, 21.943045533438177], 'bin_start_time': '2001-01-01T00:00:00+00:00', 'count': 2}}, {'type': 'Feature', 'bbox': [157.5, -21.943045533438177, 180.0, 0.0], 'id': 'Tile(x=15, y=8, z=4)', 'geometry': {'type': 'Polygon', 'coordinates': [[[157.5, -21.943045533438177], [157.5, 0.0], [180.0, 0.0], [180.0, -21.943045533438177], [157.5, -21.943045533438177]]]}, 'properties': {'title': 'XYZ tile Tile(x=15, y=8, z=4)', 'bbox': [157.5, -21.943045533438177, 180.0, 0.0], 'bin_start_time': '2001-01-01T00:00:00+00:00', 'count': 2}}, {'type': 'Feature', 'bbox': [-180.0, 0.0, -157.5, 21.943045533438177], 'id': 'Tile(x=0, y=7, z=4)', 'geometry': {'type': 'Polygon', 'coordinates': [[[-180.0, 0.0], [-180.0, 21.943045533438177], [-157.5, 21.943045533438177], [-157.5, 0.0], [-180.0, 0.0]]]}, 'properties': {'title': 'XYZ tile Tile(x=0, y=7, z=4)', 'bbox': [-180.0, 0.0, -157.5, 21.943045533438177], 'bin_start_time': '2001-01-01T00:00:00+00:00', 'count': 2}}, {'type': 'Feature', 'bbox': [22.5, -21.943045533438177, 45.0, 0.0], 'id': 'Tile(x=9, y=8, z=4)', 'geometry': {'type': 'Polygon', 'coordinates': [[[22.5, -21.943045533438177], [22.5, 0.0], [45.0, 0.0], [45.0, -21.943045533438177], [22.5, -21.943045533438177]]]}, 'properties': {'title': 'XYZ tile Tile(x=9, y=8, z=4)', 'bbox': [22.5, -21.943045533438177, 45.0, 0.0], 'bin_start_time': '2001-01-01T00:00:00+00:00', 'count': 1}}, {'type': 'Feature', 'bbox': [67.5, -21.943045533438177, 90.0, 0.0], 'id': 'Tile(x=11, y=8, z=4)', 'geometry': {'type': 'Polygon', 'coordinates': [[[67.5, -21.943045533438177], [67.5, 0.0], [90.0, 0.0], [90.0, -21.943045533438177], [67.5, -21.943045533438177]]]}, 'properties': {'title': 'XYZ tile Tile(x=11, y=8, z=4)', 'bbox': [67.5, -21.943045533438177, 90.0, 0.0], 'bin_start_time': '2001-01-01T00:00:00+00:00', 'count': 1}}], 'meta': {'paginated_results': 'http://d22sie0ztzdq3x.cloudfront.net/distance/43bac7b72798e917ab71bb19a10b065f', 'downloadable_results': 'http://d22sie0ztzdq3x.cloudfront.net/distance/43bac7b72798e917ab71bb19a10b065f/download', 'max_count': 6}}. Took 0.5 seconds\n"
     ]
    }
   ],
   "source": [
    "start = time.time()\n",
    "resp = requests.post(f\"https://{endpoint_url}/distance\", data=json.dumps({\"image\":encoded_image_bytes.decode(), \"distance\":5})).json()\n",
    "elapsed = round(time.time() - start, 2)\n",
    "print(f\"Total results: {resp}. Took {elapsed} seconds\")"
   ]
  }
 ],
 "metadata": {
  "kernelspec": {
   "display_name": "Python 3 (ipykernel)",
   "language": "python",
   "name": "python3"
  },
  "language_info": {
   "codemirror_mode": {
    "name": "ipython",
    "version": 3
   },
   "file_extension": ".py",
   "mimetype": "text/x-python",
   "name": "python",
   "nbconvert_exporter": "python",
   "pygments_lexer": "ipython3",
   "version": "3.10.13"
  }
 },
 "nbformat": 4,
 "nbformat_minor": 5
}
