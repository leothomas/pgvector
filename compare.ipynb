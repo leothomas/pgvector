{
 "cells": [
  {
   "cell_type": "code",
   "execution_count": 1,
   "id": "28965138-18e0-4973-87ab-b53966bf961a",
   "metadata": {
    "scrolled": true
   },
   "outputs": [
    {
     "name": "stderr",
     "output_type": "stream",
     "text": [
      "/Users/leo/development-seed/similarity-search/pg-vector/venv/lib/python3.8/site-packages/tqdm/auto.py:21: TqdmWarning: IProgress not found. Please update jupyter and ipywidgets. See https://ipywidgets.readthedocs.io/en/stable/user_install.html\n",
      "  from .autonotebook import tqdm as notebook_tqdm\n"
     ]
    }
   ],
   "source": [
    "import base64\n",
    "import json\n",
    "from io import BytesIO\n",
    "import time\n",
    "import numpy as np\n",
    "from PIL import Image\n",
    "import faiss\n",
    "import boto3\n",
    "import psycopg\n",
    "import requests\n",
    "import torch"
   ]
  },
  {
   "cell_type": "code",
   "execution_count": 2,
   "id": "c58962ac-0f16-4c05-b148-e1f6c1245723",
   "metadata": {},
   "outputs": [],
   "source": [
    "STACK_NAME = \"pg-vectors-similarity-search-test\"\n",
    "cloudformation = boto3.client(\"cloudformation\")\n",
    "stack_outputs = cloudformation.describe_stacks(StackName=STACK_NAME)[\"Stacks\"][0][\"Outputs\"]\n",
    "[secrets_arn] = [o[\"OutputValue\"] for o in stack_outputs if o[\"OutputKey\"]== \"databasesecretsarn\"]\n",
    "secretsmanager = boto3.client(\"secretsmanager\")\n",
    "database_secrets = json.loads(secretsmanager.get_secret_value(SecretId=secrets_arn)['SecretString'])\n",
    "database_secrets = {**{k:v for k,v in database_secrets.items() if k in [\"host\", \"password\", \"port\", \"dbname\"]}, \"user\":database_secrets[\"username\"]}"
   ]
  },
  {
   "cell_type": "code",
   "execution_count": 11,
   "id": "29688e6d-c7e9-41eb-9a07-b11eb73d33c6",
   "metadata": {},
   "outputs": [],
   "source": [
    "def b64_image_to_tensor(image: str) -> torch.Tensor:\n",
    "    \"\"\"convert input b64image to torch tensor\"\"\"\n",
    "    # handle image\n",
    "    img_bytes = base64.b64decode(image)\n",
    "    tmp = BytesIO()\n",
    "    tmp.write(img_bytes)\n",
    "    try:\n",
    "        img = Image.open(tmp)\n",
    "    except UnidentifiedImageError:\n",
    "        raise HTTPException(status_code=400, detail=\"Cannot recognize image format.\")\n",
    "    np_img = np.expand_dims(np.moveaxis(np.array(img), -1, 0), axis=0)\n",
    "    if len(np_img.shape) != 4:\n",
    "        raise HTTPException(\n",
    "            status_code=400,\n",
    "            detail=f\"Image with shape {np.moveaxis(np_img, 1, -1).shape[1:]} is not processable. Use image with 3 channels.\",\n",
    "        )\n",
    "    return torch.tensor(np_img).float()\n",
    "\n",
    "def get_model():\n",
    "    \"\"\"start torch model\"\"\"\n",
    "    # load encoder\n",
    "    model = torch.jit.load(\"./encoder.pt\", map_location=torch.device(\"cpu\"))\n",
    "    return model\n",
    "\n",
    "def prep_query_vector(image_bytes): \n",
    "\n",
    "    tensor = b64_image_to_tensor(encoded_image_bytes)\n",
    "    embedding = model(tensor)[0].detach().numpy()\n",
    "    \n",
    "    reduced_embedding = pca_matrix.apply(embedding)\n",
    "    query_vector = str(reduced_embedding.tolist()[0])\n",
    "    return query_vector\n",
    "\n",
    "model = get_model()\n",
    "pca_matrix = faiss.read_VectorTransform(\"./512_to_128_pca_matrix.pca\")\n",
    "\n",
    "gibs_image_url = \"https://gibs.earthdata.nasa.gov/wmts/epsg3857/best/MODIS_Terra_CorrectedReflectance_TrueColor/default/2023-08-08/GoogleMapsCompatible_Level9/8/111/15.jpg\"\n",
    "encoded_image_bytes = base64.b64encode(requests.get(gibs_image_url).content)\n"
   ]
  },
  {
   "cell_type": "code",
   "execution_count": 26,
   "id": "389c54fb-2be1-498f-8efa-073f1864e49f",
   "metadata": {
    "scrolled": true
   },
   "outputs": [
    {
     "name": "stdout",
     "output_type": "stream",
     "text": [
      "Total results: 5. Took 2.59 seconds\n"
     ]
    }
   ],
   "source": [
    "start = time.time()\n",
    "\n",
    "query_vector = prep_query_vector(encoded_image_bytes)\n",
    "neighbors_query = f\"\"\"\n",
    "SELECT *, embedding <-> '{query_vector}' as distance \n",
    "FROM images \n",
    "ORDER BY embedding <-> '{query_vector}' \n",
    "LIMIT 5\"\"\"\n",
    "\n",
    "with psycopg.connect(**database_secrets) as conn:\n",
    "    with conn.cursor() as cursor:     \n",
    "        results = list(cursor.execute(neighbors_query).fetchall())\n",
    "\n",
    "elapsed = round(time.time() - start, 2)\n",
    "print(f\"Total results: {len(results)}. Took {elapsed} seconds\")"
   ]
  },
  {
   "cell_type": "code",
   "execution_count": 32,
   "id": "4a3bb656-0b81-42c7-9653-741610ba32ba",
   "metadata": {},
   "outputs": [
    {
     "name": "stdout",
     "output_type": "stream",
     "text": [
      "Total results: 938. Took 3.07 seconds\n"
     ]
    }
   ],
   "source": [
    "distance_query = f\"\"\"\n",
    "SELECT *, embedding <-> '{query_vector}' as distance \n",
    "FROM images \n",
    "WHERE embedding <-> '{query_vector}' < 5 \n",
    "ORDER BY embedding <-> '{query_vector}'\n",
    "\"\"\"\n",
    "\n",
    "start = time.time()\n",
    "query_vector = prep_query_vector(encoded_image_bytes)\n",
    "with psycopg.connect(**database_secrets) as conn:\n",
    "    with conn.cursor() as cursor:     \n",
    "        results = list(cursor.execute(distance_query).fetchall())\n",
    "\n",
    "elapsed = round(time.time() - start, 2)\n",
    "print(f\"Total results: {len(results)}. Took {elapsed} seconds\")"
   ]
  },
  {
   "cell_type": "code",
   "execution_count": 36,
   "id": "34599ae4-621b-4d8f-aa2b-5bf9b23546db",
   "metadata": {},
   "outputs": [
    {
     "name": "stdout",
     "output_type": "stream",
     "text": [
      "Total results: 305. Took 2.67 seconds\n"
     ]
    }
   ],
   "source": [
    "distance_query = f\"\"\"\n",
    "SELECT *, embedding <-> '{query_vector}' as distance \n",
    "FROM images \n",
    "WHERE embedding <-> '{query_vector}' < 5 \n",
    "AND datetime BETWEEN '2020-01-01'::timestamp AND '2020-06-01'::timestamp\n",
    "ORDER BY embedding <-> '{query_vector}'\n",
    "\"\"\"\n",
    "\n",
    "start = time.time()\n",
    "query_vector = prep_query_vector(encoded_image_bytes)\n",
    "with psycopg.connect(**database_secrets) as conn:\n",
    "    with conn.cursor() as cursor:     \n",
    "        results = list(cursor.execute(distance_query).fetchall())\n",
    "\n",
    "elapsed = round(time.time() - start, 2)\n",
    "print(f\"Total results: {len(results)}. Took {elapsed} seconds\")"
   ]
  },
  {
   "cell_type": "code",
   "execution_count": 14,
   "id": "6ab7e0c6-e9a3-4a40-894f-d2012535c4d5",
   "metadata": {},
   "outputs": [],
   "source": [
    "STACK_NAME = \"similarity-search-api-v2-dev\"\n",
    "cloudformation = boto3.client(\"cloudformation\")\n",
    "stack_outputs = cloudformation.describe_stacks(StackName=STACK_NAME)[\"Stacks\"][0][\"Outputs\"]\n",
    "[endpoint_url] = [o[\"OutputValue\"] for o in stack_outputs if o[\"OutputKey\"].startswith(\"apiEndpoint\")]\n"
   ]
  },
  {
   "cell_type": "code",
   "execution_count": 25,
   "id": "47ee472d-2863-4760-b2c2-156cc49d4ab9",
   "metadata": {},
   "outputs": [
    {
     "name": "stdout",
     "output_type": "stream",
     "text": [
      "Total results: 3. Took 1.43 seconds\n"
     ]
    }
   ],
   "source": [
    "start = time.time()\n",
    "resp = requests.post(f\"https://{endpoint_url}/search\", data=json.dumps({\"image\":encoded_image_bytes.decode(), \"neighbors\":3})).json()\n",
    "elapsed = round(time.time() - start, 2)\n",
    "print(f\"Total results: {resp['numberMatched']}. Took {elapsed} seconds\")"
   ]
  },
  {
   "cell_type": "code",
   "execution_count": 30,
   "id": "821d6af7-963f-4757-a1f9-1b20add0ecd8",
   "metadata": {},
   "outputs": [
    {
     "name": "stdout",
     "output_type": "stream",
     "text": [
      "Total results: {'type': 'FeatureCollection', 'features': [{'type': 'Feature', 'bbox': [-157.5, -21.943045533438177, -135.0, 0.0], 'id': 'Tile(x=1, y=8, z=4)', 'geometry': {'type': 'Polygon', 'coordinates': [[[-157.5, -21.943045533438177], [-157.5, 0.0], [-135.0, 0.0], [-135.0, -21.943045533438177], [-157.5, -21.943045533438177]]]}, 'properties': {'title': 'XYZ tile Tile(x=1, y=8, z=4)', 'bbox': [-157.5, -21.943045533438177, -135.0, 0.0], 'bin_start_time': '2001-01-01T00:00:00+00:00', 'count': 6}}, {'type': 'Feature', 'bbox': [-135.0, -21.943045533438177, -112.5, 0.0], 'id': 'Tile(x=2, y=8, z=4)', 'geometry': {'type': 'Polygon', 'coordinates': [[[-135.0, -21.943045533438177], [-135.0, 0.0], [-112.5, 0.0], [-112.5, -21.943045533438177], [-135.0, -21.943045533438177]]]}, 'properties': {'title': 'XYZ tile Tile(x=2, y=8, z=4)', 'bbox': [-135.0, -21.943045533438177, -112.5, 0.0], 'bin_start_time': '2001-01-01T00:00:00+00:00', 'count': 3}}, {'type': 'Feature', 'bbox': [45.0, 0.0, 67.5, 21.943045533438177], 'id': 'Tile(x=10, y=7, z=4)', 'geometry': {'type': 'Polygon', 'coordinates': [[[45.0, 0.0], [45.0, 21.943045533438177], [67.5, 21.943045533438177], [67.5, 0.0], [45.0, 0.0]]]}, 'properties': {'title': 'XYZ tile Tile(x=10, y=7, z=4)', 'bbox': [45.0, 0.0, 67.5, 21.943045533438177], 'bin_start_time': '2001-01-01T00:00:00+00:00', 'count': 2}}, {'type': 'Feature', 'bbox': [-157.5, 0.0, -135.0, 21.943045533438177], 'id': 'Tile(x=1, y=7, z=4)', 'geometry': {'type': 'Polygon', 'coordinates': [[[-157.5, 0.0], [-157.5, 21.943045533438177], [-135.0, 21.943045533438177], [-135.0, 0.0], [-157.5, 0.0]]]}, 'properties': {'title': 'XYZ tile Tile(x=1, y=7, z=4)', 'bbox': [-157.5, 0.0, -135.0, 21.943045533438177], 'bin_start_time': '2001-01-01T00:00:00+00:00', 'count': 2}}, {'type': 'Feature', 'bbox': [157.5, -21.943045533438177, 180.0, 0.0], 'id': 'Tile(x=15, y=8, z=4)', 'geometry': {'type': 'Polygon', 'coordinates': [[[157.5, -21.943045533438177], [157.5, 0.0], [180.0, 0.0], [180.0, -21.943045533438177], [157.5, -21.943045533438177]]]}, 'properties': {'title': 'XYZ tile Tile(x=15, y=8, z=4)', 'bbox': [157.5, -21.943045533438177, 180.0, 0.0], 'bin_start_time': '2001-01-01T00:00:00+00:00', 'count': 2}}, {'type': 'Feature', 'bbox': [-180.0, 0.0, -157.5, 21.943045533438177], 'id': 'Tile(x=0, y=7, z=4)', 'geometry': {'type': 'Polygon', 'coordinates': [[[-180.0, 0.0], [-180.0, 21.943045533438177], [-157.5, 21.943045533438177], [-157.5, 0.0], [-180.0, 0.0]]]}, 'properties': {'title': 'XYZ tile Tile(x=0, y=7, z=4)', 'bbox': [-180.0, 0.0, -157.5, 21.943045533438177], 'bin_start_time': '2001-01-01T00:00:00+00:00', 'count': 2}}, {'type': 'Feature', 'bbox': [22.5, -21.943045533438177, 45.0, 0.0], 'id': 'Tile(x=9, y=8, z=4)', 'geometry': {'type': 'Polygon', 'coordinates': [[[22.5, -21.943045533438177], [22.5, 0.0], [45.0, 0.0], [45.0, -21.943045533438177], [22.5, -21.943045533438177]]]}, 'properties': {'title': 'XYZ tile Tile(x=9, y=8, z=4)', 'bbox': [22.5, -21.943045533438177, 45.0, 0.0], 'bin_start_time': '2001-01-01T00:00:00+00:00', 'count': 1}}, {'type': 'Feature', 'bbox': [67.5, -21.943045533438177, 90.0, 0.0], 'id': 'Tile(x=11, y=8, z=4)', 'geometry': {'type': 'Polygon', 'coordinates': [[[67.5, -21.943045533438177], [67.5, 0.0], [90.0, 0.0], [90.0, -21.943045533438177], [67.5, -21.943045533438177]]]}, 'properties': {'title': 'XYZ tile Tile(x=11, y=8, z=4)', 'bbox': [67.5, -21.943045533438177, 90.0, 0.0], 'bin_start_time': '2001-01-01T00:00:00+00:00', 'count': 1}}], 'meta': {'paginated_results': 'http://d22sie0ztzdq3x.cloudfront.net/distance/43bac7b72798e917ab71bb19a10b065f', 'downloadable_results': 'http://d22sie0ztzdq3x.cloudfront.net/distance/43bac7b72798e917ab71bb19a10b065f/download', 'max_count': 6}}. Took 0.5 seconds\n"
     ]
    }
   ],
   "source": [
    "start = time.time()\n",
    "resp = requests.post(f\"https://{endpoint_url}/distance\", data=json.dumps({\"image\":encoded_image_bytes.decode(), \"distance\":5})).json()\n",
    "elapsed = round(time.time() - start, 2)\n",
    "print(f\"Total results: {resp}. Took {elapsed} seconds\")"
   ]
  }
 ],
 "metadata": {
  "kernelspec": {
   "display_name": "Python 3 (ipykernel)",
   "language": "python",
   "name": "python3"
  },
  "language_info": {
   "codemirror_mode": {
    "name": "ipython",
    "version": 3
   },
   "file_extension": ".py",
   "mimetype": "text/x-python",
   "name": "python",
   "nbconvert_exporter": "python",
   "pygments_lexer": "ipython3",
   "version": "3.8.3"
  }
 },
 "nbformat": 4,
 "nbformat_minor": 5
}
